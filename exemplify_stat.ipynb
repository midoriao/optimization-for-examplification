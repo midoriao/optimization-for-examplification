{
 "cells": [
  {
   "cell_type": "code",
   "execution_count": 31,
   "metadata": {},
   "outputs": [],
   "source": [
    "from signal_tl import Signal, Predicate, compute_robustness, F, G, TOP\n",
    "from src.exemplify import exemplify\n",
    "from src.specification import eq\n",
    "import numpy as np\n",
    "import time\n",
    "import matplotlib.pyplot as plt"
   ]
  },
  {
   "cell_type": "code",
   "execution_count": 25,
   "metadata": {},
   "outputs": [],
   "source": [
    "time_step = 0.1\n",
    "time_horizon = 10"
   ]
  },
  {
   "cell_type": "code",
   "execution_count": 26,
   "metadata": {},
   "outputs": [],
   "source": [
    "danger = (Predicate(\"y - x\") < 10)\n",
    "carx = ((Predicate(\"x'\") > 5) & (Predicate(\"x'\") < 27) & \n",
    "        (Predicate(\"x''\") > -3) & (Predicate(\"x''\") < 3) &\n",
    "        (Predicate(\"x'''\") > -5) & (Predicate(\"x'''\") < 5))\n",
    "cary = ((Predicate(\"y'\") > 5) & (Predicate(\"y'\") < 27) & \n",
    "        (Predicate(\"y''\") > -3) & (Predicate(\"y''\") < 3) &\n",
    "        (Predicate(\"y'''\") > -5) & (Predicate(\"y'''\") < 5))\n",
    "\n",
    "sim = (eq(Predicate(\"x\"), 0) & eq(Predicate(\"y\"), 45) & \n",
    "        F(danger, (0, 7)) & \n",
    "        G(carx & cary & (Predicate(\"y - x\") > 0))\n",
    ")\n",
    "\n",
    "def postprocess_trace(trace):\n",
    "    return {**trace, \"y - x\": Signal(np.array(trace[\"y\"].values) - np.array(trace[\"x\"].values), trace[\"x\"].times)}"
   ]
  },
  {
   "cell_type": "code",
   "execution_count": 35,
   "metadata": {},
   "outputs": [
    {
     "name": "stdout",
     "output_type": "stream",
     "text": [
      "Timeout after 10.00 seconds\n",
      "Timeout after 10.01 seconds\n",
      "Timeout after 10.00 seconds\n",
      "Timeout after 10.00 seconds\n",
      "Timeout after 10.01 seconds\n",
      "Timeout after 10.01 seconds\n",
      "Timeout after 10.01 seconds\n",
      "Timeout after 10.00 seconds\n",
      "Timeout after 10.00 seconds\n",
      "Timeout after 10.00 seconds\n",
      "Timeout after 10.01 seconds\n",
      "Timeout after 10.00 seconds\n",
      "Timeout after 10.00 seconds\n",
      "Timeout after 10.01 seconds\n",
      "Timeout after 10.01 seconds\n",
      "Timeout after 10.00 seconds\n",
      "Timeout after 10.00 seconds\n",
      "Timeout after 10.00 seconds\n",
      "Timeout after 10.01 seconds\n",
      "Timeout after 10.00 seconds\n",
      "Timeout after 10.01 seconds\n",
      "Timeout after 10.00 seconds\n",
      "Timeout after 10.00 seconds\n",
      "Timeout after 10.00 seconds\n",
      "Timeout after 10.00 seconds\n",
      "Timeout after 10.00 seconds\n"
     ]
    }
   ],
   "source": [
    "def measure_exemplification_time(n_cp, iteration):\n",
    "    elapsed = []\n",
    "    for _ in range(iteration):\n",
    "        t1 = time.time()\n",
    "        trace, msg = exemplify(\n",
    "            sim,\n",
    "            TOP,\n",
    "            [\n",
    "                {\"variable_name\": \"x\", \"n_control_points\": n_cp, \"max_derivative_order\": 3},\n",
    "                {\"variable_name\": \"y\", \"n_control_points\": n_cp, \"max_derivative_order\": 3},\n",
    "            ],\n",
    "            0,\n",
    "            time_horizon,\n",
    "            time_step,\n",
    "            postprocess_trace=postprocess_trace,\n",
    "        )\n",
    "        if trace is None:\n",
    "            print(msg)\n",
    "        elapsed.append(time.time() - t1)\n",
    "    return elapsed\n",
    "\n",
    "n_cp_list = range(3, 12)\n",
    "result = np.array([measure_exemplification_time(n_cp, 10) for n_cp in n_cp_list])"
   ]
  },
  {
   "cell_type": "code",
   "execution_count": 37,
   "metadata": {},
   "outputs": [
    {
     "data": {
      "image/png": "[encoded data removed]",
      "text/plain": [
       "<Figure size 640x480 with 1 Axes>"
      ]
     },
     "metadata": {},
     "output_type": "display_data"
    }
   ],
   "source": [
    "# plot mean, std of the elapsed time for each n_cp\n",
    "\n",
    "plt.errorbar(n_cp_list, result.mean(axis=1), yerr=result.std(axis=1), fmt='o')\n",
    "plt.show()"
   ]
  }
 ],
 "metadata": {
  "kernelspec": {
   "display_name": ".venv",
   "language": "python",
   "name": "python3"
  },
  "language_info": {
   "codemirror_mode": {
    "name": "ipython",
    "version": 3
   },
   "file_extension": ".py",
   "mimetype": "text/x-python",
   "name": "python",
   "nbconvert_exporter": "python",
   "pygments_lexer": "ipython3",
   "version": "3.8.10"
  },
  "orig_nbformat": 4
 },
 "nbformat": 4,
 "nbformat_minor": 2
}
